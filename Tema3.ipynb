{
 "cells": [
  {
   "cell_type": "code",
   "execution_count": 1,
   "metadata": {},
   "outputs": [],
   "source": [
    "from typing import List, Tuple\n",
    "\n",
    "from sklearn.datasets import fetch_lfw_people\n",
    "from sklearn.model_selection import train_test_split\n",
    "\n",
    "import numpy as np\n",
    "import torch\n",
    "\n",
    "import matplotlib.pyplot as plt"
   ]
  },
  {
   "cell_type": "code",
   "execution_count": 2,
   "metadata": {},
   "outputs": [],
   "source": [
    "def dataset_select_split(dataset, threshold, test_size)\\\n",
    "        -> Tuple[torch.Tensor, torch.Tensor, torch.Tensor, torch.Tensor]:\n",
    "    # Select\n",
    "    freq = np.bincount(dataset.target)\n",
    "    cond = freq[dataset.target] >= threshold\n",
    "    dataset.images = dataset.images[cond]\n",
    "    dataset.target = dataset.target[cond]\n",
    "\n",
    "    # Reclassify\n",
    "    subst = {}\n",
    "    target_reclass = []\n",
    "    last_class = 0\n",
    "    for actual_target in dataset.target:\n",
    "        if actual_target in subst:\n",
    "            target_reclass.append(subst[actual_target])\n",
    "        else:\n",
    "            subst[actual_target] = last_class\n",
    "            target_reclass.append(last_class)\n",
    "            last_class += 1\n",
    "    dataset.target = np.array(target_reclass)\n",
    "\n",
    "    train_data, test_data, train_labels, test_labels = train_test_split(\n",
    "        dataset.images, dataset.target, test_size=test_size\n",
    "    )\n",
    "\n",
    "    # Convert to torch\n",
    "    train_data = torch.unsqueeze(torch.from_numpy(train_data), dim=1)\n",
    "    train_labels = torch.from_numpy(train_labels.astype(int))\n",
    "\n",
    "    test_data = torch.unsqueeze(torch.from_numpy(test_data), dim=1)\n",
    "    test_labels = torch.from_numpy(test_labels.astype(int))\n",
    "\n",
    "    print(\"Dataset information:\")\n",
    "    print(f\"    Classes: {last_class}\")\n",
    "    print(f\"    Samples: {dataset.target.shape[0]}\")\n",
    "\n",
    "    return train_data, train_labels, test_data, test_labels"
   ]
  },
  {
   "cell_type": "markdown",
   "metadata": {},
   "source": [
    "### Dataset Containers"
   ]
  },
  {
   "cell_type": "code",
   "execution_count": 3,
   "metadata": {},
   "outputs": [],
   "source": [
    "class LFWDataset(torch.utils.data.Dataset):\n",
    "    data: torch.Tensor\n",
    "    labels: torch.Tensor\n",
    "\n",
    "    def __init__(self, data: torch.Tensor, labels: torch.Tensor):\n",
    "        self.data = data\n",
    "        self.labels = labels\n",
    "\n",
    "    def __len__(self):\n",
    "        return self.data.size(0)\n",
    "\n",
    "    def __getitem__(self, item):\n",
    "        if torch.is_tensor(item):\n",
    "            item = item.tolist()\n",
    "        return self.data[item], self.labels[item]\n"
   ]
  },
  {
   "cell_type": "markdown",
   "metadata": {},
   "source": [
    "### CNN Model"
   ]
  },
  {
   "cell_type": "code",
   "execution_count": 4,
   "metadata": {},
   "outputs": [],
   "source": [
    "class Net(torch.nn.Module):\n",
    "    def __init__(self, h1: int, h2: int, h3: int, h4: int, h5: int, h6: int):\n",
    "        super(Net, self).__init__()\n",
    "        self.__layers1 = torch.nn.Sequential(\n",
    "            torch.nn.Conv2d(1,  h1, kernel_size=5, stride=1),  # (1,  62, 47) -> (h1, 58, 43)\n",
    "            torch.nn.Conv2d(h1, h2, kernel_size=5, stride=1),  # (h1, 58, 43) -> (h2, 54, 39)\n",
    "            torch.nn.MaxPool2d(kernel_size=2, stride=1),       # (h2, 54, 39) -> (h2, 53, 38)\n",
    "            torch.nn.Dropout(p=0.25)                           # (h2, 53, 38) -> (h2, 53, 38)\n",
    "        )\n",
    "        self.__layers2 = torch.nn.Sequential(\n",
    "            torch.nn.Conv2d(h2, h3, kernel_size=3, stride=1),  # (h2, 53, 38) -> (h3, 51, 36)\n",
    "            torch.nn.Conv2d(h3, h4, kernel_size=3, stride=1),  # (h3, 51, 36) -> (h4, 49, 34)\n",
    "            torch.nn.MaxPool2d(kernel_size=3, stride=2),       # (h4, 49, 34) -> (h4, 24, 16)\n",
    "            torch.nn.Dropout(p=0.25),                          # (h4, 24, 16) -> (h4, 24, 16)\n",
    "        )\n",
    "        self.__layers3 = torch.nn.Sequential(\n",
    "            torch.nn.Linear(h4 * 24 * 16, h5),                 # (h4 * 24 * 16) -> (h5)\n",
    "            torch.nn.Dropout(p=0.4),                           # (h5) -> (h5)\n",
    "            torch.nn.Linear(h5, h6),                           # (h5) -> (h6)\n",
    "            torch.nn.Dropout(p=0.4),                           # (h5) -> (h6)\n",
    "            torch.nn.Softmax(dim=0)                            # (h5) -> (h6)\n",
    "        )\n",
    "        print(\"CNN Information:\")\n",
    "        print(f\"    Hidden Layers:\")\n",
    "        print(f\"        -> {h1} {h2} | {h3} {h4} | {h4 * 24 * 16} {h5} {h6} ->\")\n",
    "    \n",
    "    def forward(self, x):\n",
    "        x = self.__layers1(x)\n",
    "        x = self.__layers2(x)\n",
    "        x = x.view(x.size(0), -1)\n",
    "        x = self.__layers3(x)\n",
    "        return x"
   ]
  },
  {
   "cell_type": "code",
   "execution_count": null,
   "metadata": {},
   "outputs": [],
   "source": [
    "def top_k_accuracy(k, target, output):\n",
    "    batch_size = target.size[0]\n",
    "    _, pred = output.topk(k, 1, True, True)\n",
    "    \n",
    "    pred = pred.t()\n",
    "    correct = pred.eq(target.to(device).view(1, -1).expand_as(pred))\n",
    "    \n",
    "    correct_k = correct[:k].view(-1).float().sum(0, keepdim=True)\n",
    "    currect_k.mul(100.0 / batch_size)\n",
    "    \n",
    "    return correct_k"
   ]
  },
  {
   "cell_type": "code",
   "execution_count": 25,
   "metadata": {},
   "outputs": [],
   "source": [
    "def train_test(\n",
    "        cnn: Net, optimizer: torch.optim.Adam, loss_func: torch.nn.CrossEntropyLoss,\n",
    "        train_loader: torch.utils.data.DataLoader,\n",
    "        test_loader: torch.utils.data.DataLoader, epochs: int\n",
    ") -> Tuple[List[float], List[float], List[float]]:\n",
    "\n",
    "    train_losses: List[float] = []\n",
    "    test_losses: List[float] = []\n",
    "    accuracies: List[float] = []\n",
    "    \n",
    "    for epoch in range(epochs):\n",
    "        cnn.train()\n",
    "\n",
    "        train_loss = 0\n",
    "        for step, (data, labels) in enumerate(train_loader):\n",
    "            if torch.cuda.is_available():\n",
    "                data = data.cuda()\n",
    "                labels = labels.cuda()\n",
    "            \n",
    "            optimizer.zero_grad()\n",
    "            logps = cnn.forward(data).long()\n",
    "            loss = loss_func(logps, labels)\n",
    "            loss.backward()\n",
    "            optimizer.step()\n",
    "            train_loss += loss.item()\n",
    "        train_loss /= len(train_loader)\n",
    "\n",
    "        test_loss = 0\n",
    "        accuracy = 0\n",
    "        cnn.eval()\n",
    "        with torch.no_grad():\n",
    "            for data, labels in test_loader:\n",
    "                if torch.cuda.is_available():\n",
    "                    data = data.cuda()\n",
    "                    labels = labels.cuda()\n",
    "                \n",
    "                logps = cnn.forward(data).long()\n",
    "                loss = loss_func(logps, labels)\n",
    "                test_loss += loss.item()\n",
    "\n",
    "                ps = torch.exp(logps)\n",
    "                top_p, top_class = ps.topk(1, dim=1)\n",
    "                equals = top_class == labels.view(*top_class.shape)\n",
    "                accuracy += torch.mean(equals.type(torch.FloatTensor)).item()\n",
    "        train_loss /= len(test_loader)\n",
    "        accuracy /= len(test_loader)\n",
    "\n",
    "        train_losses.append(train_loss)\n",
    "        test_losses.append(test_loss)\n",
    "        accuracies.append(accuracy)\n",
    "\n",
    "        print(f\"Epoch {epoch + 1:3d} / {epochs:3d}\"\n",
    "              f\" Train loss: {train_loss:7.3f}\"\n",
    "              f\" Test Loss: {test_loss:7.3f}\"\n",
    "              f\" Test accuracy: {accuracy:7.3f}\")\n",
    "        cnn.train()\n",
    "\n",
    "    return train_losses, test_losses, accuracies"
   ]
  },
  {
   "cell_type": "code",
   "execution_count": 26,
   "metadata": {},
   "outputs": [],
   "source": [
    "def plot_loss(epochs: int, train_loss: List[float], test_loss: List[float]):\n",
    "    plt.figure(figsize=(7, 5))\n",
    "    plt.rcdefaults()\n",
    "    plt.rc('font', size=14)\n",
    "    \n",
    "    plt.plot(range(1, epochs + 1), train_loss, \".-b\", label=\"Training Loss\")\n",
    "    plt.plot(range(1, epochs + 1), test_loss, \".-r\", label=\"Test Loss\")\n",
    "    plt.title(\"Loss Curves\")\n",
    "    plt.xlabel(\"Epoch\")\n",
    "    plt.ylabel(\"Loss\")\n",
    "    plt.legend(loc=\"upper center\", bbox_to_anchor=(0.5, 1.1), ncol=3, fancybox=True, shadow=True)\n",
    "    plt.show()\n",
    "\n",
    "\n",
    "def plot_accuracies(epochs: int, accuracies: List[float]):\n",
    "    plt.figure(figsize=(7, 5))\n",
    "    plt.rcdefaults()\n",
    "    plt.rc('font', size=14)\n",
    "    \n",
    "    plt.plot(range(1, epochs + 1), accuracies, \".-g\", label=\"Accuracy\")\n",
    "    plt.title(\"Accuracy\")\n",
    "    plt.xlabel(\"Epoch\")\n",
    "    plt.ylim(0, 1)\n",
    "    # ax.legend(loc=\"upper right\")\n",
    "    plt.show()"
   ]
  },
  {
   "cell_type": "markdown",
   "metadata": {},
   "source": [
    "#### Setup"
   ]
  },
  {
   "cell_type": "code",
   "execution_count": 27,
   "metadata": {},
   "outputs": [
    {
     "name": "stdout",
     "output_type": "stream",
     "text": [
      "Dataset information:\n",
      "    Classes: 62\n",
      "    Samples: 3023\n",
      "Train dataset:\n",
      "    Data size: torch.Size([2418, 1, 62, 47])\n",
      "    Labels size: torch.Size([2418])\n",
      "Test dataset:\n",
      "    Data size: torch.Size([605, 1, 62, 47])\n",
      "    Labels size: torch.Size([605])\n",
      "CNN Information:\n",
      "    Hidden Layers:\n",
      "        -> 4 16 | 16 10 | 3840 1900 62 ->\n",
      "Is Cuda!\n"
     ]
    }
   ],
   "source": [
    "epochs = 2000\n",
    "batch_size = 50\n",
    "threshold = 20\n",
    "test_size = 0.2\n",
    "learning_rate = 0.01\n",
    "hidden_layers = [4, 16, 16, 10, 1900, 62]\n",
    "\n",
    "dataset = fetch_lfw_people(\"/home/vlad/Facultate/Sem2/IA/Teme/Tema3/scikit_learn_data\")\n",
    "train_data, train_labels, test_data, test_labels = dataset_select_split(\n",
    "    dataset, threshold, test_size\n",
    ")\n",
    "train_dataset = LFWDataset(train_data, train_labels)\n",
    "test_dataset = LFWDataset(test_data, test_labels)\n",
    "train_loader = torch.utils.data.DataLoader(\n",
    "    dataset=train_dataset, batch_size=batch_size, shuffle=True\n",
    ")\n",
    "test_loader = torch.utils.data.DataLoader(\n",
    "    dataset=test_dataset, batch_size=batch_size, shuffle=True\n",
    ")\n",
    "\n",
    "print(\"Train dataset:\")\n",
    "print(f\"    Data size: {train_dataset.data.size()}\")\n",
    "print(f\"    Labels size: {train_dataset.labels.size()}\")\n",
    "\n",
    "print(\"Test dataset:\")\n",
    "print(f\"    Data size: {test_dataset.data.size()}\")\n",
    "print(f\"    Labels size: {test_dataset.labels.size()}\")\n",
    "\n",
    "device = torch.device(\"cuda\" if torch.cuda.is_available() else \"cpu\")\n",
    "\n",
    "cnn = Net(*hidden_layers)\n",
    "cnn.train()\n",
    "cnn = cnn.to(device)\n",
    "optimizer = torch.optim.Adam(cnn.parameters(), lr=learning_rate)\n",
    "loss_func = torch.nn.CrossEntropyLoss()\n",
    "\n",
    "if torch.cuda.is_available():\n",
    "    print(\"Is Cuda!\")\n",
    "    cnn = cnn.cuda()\n",
    "    loss_func = loss_func.cuda()"
   ]
  },
  {
   "cell_type": "code",
   "execution_count": 28,
   "metadata": {},
   "outputs": [
    {
     "ename": "RuntimeError",
     "evalue": "\"host_softmax\" not implemented for 'Long'",
     "output_type": "error",
     "traceback": [
      "\u001b[1;31m---------------------------------------------------------------------------\u001b[0m",
      "\u001b[1;31mRuntimeError\u001b[0m                              Traceback (most recent call last)",
      "\u001b[1;32m<ipython-input-28-53a835f50c44>\u001b[0m in \u001b[0;36m<module>\u001b[1;34m\u001b[0m\n\u001b[0;32m      4\u001b[0m \u001b[1;32mif\u001b[0m \u001b[0mdo_train_test\u001b[0m\u001b[1;33m:\u001b[0m\u001b[1;33m\u001b[0m\u001b[1;33m\u001b[0m\u001b[0m\n\u001b[0;32m      5\u001b[0m     train_losses, test_losses, accuracies = train_test(\n\u001b[1;32m----> 6\u001b[1;33m         \u001b[0mcnn\u001b[0m\u001b[1;33m,\u001b[0m \u001b[0moptimizer\u001b[0m\u001b[1;33m,\u001b[0m \u001b[0mloss_func\u001b[0m\u001b[1;33m,\u001b[0m \u001b[0mtrain_loader\u001b[0m\u001b[1;33m,\u001b[0m \u001b[0mtest_loader\u001b[0m\u001b[1;33m,\u001b[0m \u001b[0mepochs\u001b[0m\u001b[1;33m\u001b[0m\u001b[1;33m\u001b[0m\u001b[0m\n\u001b[0m\u001b[0;32m      7\u001b[0m     )\n\u001b[0;32m      8\u001b[0m     \u001b[1;32mwith\u001b[0m \u001b[0mopen\u001b[0m\u001b[1;33m(\u001b[0m\u001b[1;34m\"results_2000.pkl\"\u001b[0m\u001b[1;33m,\u001b[0m \u001b[1;34m\"wb\"\u001b[0m\u001b[1;33m)\u001b[0m \u001b[1;32mas\u001b[0m \u001b[0mf\u001b[0m\u001b[1;33m:\u001b[0m\u001b[1;33m\u001b[0m\u001b[1;33m\u001b[0m\u001b[0m\n",
      "\u001b[1;32m<ipython-input-25-25c142b8b723>\u001b[0m in \u001b[0;36mtrain_test\u001b[1;34m(cnn, optimizer, loss_func, train_loader, test_loader, epochs)\u001b[0m\n\u001b[0;32m     20\u001b[0m             \u001b[0moptimizer\u001b[0m\u001b[1;33m.\u001b[0m\u001b[0mzero_grad\u001b[0m\u001b[1;33m(\u001b[0m\u001b[1;33m)\u001b[0m\u001b[1;33m\u001b[0m\u001b[1;33m\u001b[0m\u001b[0m\n\u001b[0;32m     21\u001b[0m             \u001b[0mlogps\u001b[0m \u001b[1;33m=\u001b[0m \u001b[0mcnn\u001b[0m\u001b[1;33m.\u001b[0m\u001b[0mforward\u001b[0m\u001b[1;33m(\u001b[0m\u001b[0mdata\u001b[0m\u001b[1;33m)\u001b[0m\u001b[1;33m.\u001b[0m\u001b[0mlong\u001b[0m\u001b[1;33m(\u001b[0m\u001b[1;33m)\u001b[0m\u001b[1;33m\u001b[0m\u001b[1;33m\u001b[0m\u001b[0m\n\u001b[1;32m---> 22\u001b[1;33m             \u001b[0mloss\u001b[0m \u001b[1;33m=\u001b[0m \u001b[0mloss_func\u001b[0m\u001b[1;33m(\u001b[0m\u001b[0mlogps\u001b[0m\u001b[1;33m,\u001b[0m \u001b[0mlabels\u001b[0m\u001b[1;33m)\u001b[0m\u001b[1;33m\u001b[0m\u001b[1;33m\u001b[0m\u001b[0m\n\u001b[0m\u001b[0;32m     23\u001b[0m             \u001b[0mloss\u001b[0m\u001b[1;33m.\u001b[0m\u001b[0mbackward\u001b[0m\u001b[1;33m(\u001b[0m\u001b[1;33m)\u001b[0m\u001b[1;33m\u001b[0m\u001b[1;33m\u001b[0m\u001b[0m\n\u001b[0;32m     24\u001b[0m             \u001b[0moptimizer\u001b[0m\u001b[1;33m.\u001b[0m\u001b[0mstep\u001b[0m\u001b[1;33m(\u001b[0m\u001b[1;33m)\u001b[0m\u001b[1;33m\u001b[0m\u001b[1;33m\u001b[0m\u001b[0m\n",
      "\u001b[1;32mC:\\ProgramData\\Anaconda3\\lib\\site-packages\\torch\\nn\\modules\\module.py\u001b[0m in \u001b[0;36m__call__\u001b[1;34m(self, *input, **kwargs)\u001b[0m\n\u001b[0;32m    548\u001b[0m             \u001b[0mresult\u001b[0m \u001b[1;33m=\u001b[0m \u001b[0mself\u001b[0m\u001b[1;33m.\u001b[0m\u001b[0m_slow_forward\u001b[0m\u001b[1;33m(\u001b[0m\u001b[1;33m*\u001b[0m\u001b[0minput\u001b[0m\u001b[1;33m,\u001b[0m \u001b[1;33m**\u001b[0m\u001b[0mkwargs\u001b[0m\u001b[1;33m)\u001b[0m\u001b[1;33m\u001b[0m\u001b[1;33m\u001b[0m\u001b[0m\n\u001b[0;32m    549\u001b[0m         \u001b[1;32melse\u001b[0m\u001b[1;33m:\u001b[0m\u001b[1;33m\u001b[0m\u001b[1;33m\u001b[0m\u001b[0m\n\u001b[1;32m--> 550\u001b[1;33m             \u001b[0mresult\u001b[0m \u001b[1;33m=\u001b[0m \u001b[0mself\u001b[0m\u001b[1;33m.\u001b[0m\u001b[0mforward\u001b[0m\u001b[1;33m(\u001b[0m\u001b[1;33m*\u001b[0m\u001b[0minput\u001b[0m\u001b[1;33m,\u001b[0m \u001b[1;33m**\u001b[0m\u001b[0mkwargs\u001b[0m\u001b[1;33m)\u001b[0m\u001b[1;33m\u001b[0m\u001b[1;33m\u001b[0m\u001b[0m\n\u001b[0m\u001b[0;32m    551\u001b[0m         \u001b[1;32mfor\u001b[0m \u001b[0mhook\u001b[0m \u001b[1;32min\u001b[0m \u001b[0mself\u001b[0m\u001b[1;33m.\u001b[0m\u001b[0m_forward_hooks\u001b[0m\u001b[1;33m.\u001b[0m\u001b[0mvalues\u001b[0m\u001b[1;33m(\u001b[0m\u001b[1;33m)\u001b[0m\u001b[1;33m:\u001b[0m\u001b[1;33m\u001b[0m\u001b[1;33m\u001b[0m\u001b[0m\n\u001b[0;32m    552\u001b[0m             \u001b[0mhook_result\u001b[0m \u001b[1;33m=\u001b[0m \u001b[0mhook\u001b[0m\u001b[1;33m(\u001b[0m\u001b[0mself\u001b[0m\u001b[1;33m,\u001b[0m \u001b[0minput\u001b[0m\u001b[1;33m,\u001b[0m \u001b[0mresult\u001b[0m\u001b[1;33m)\u001b[0m\u001b[1;33m\u001b[0m\u001b[1;33m\u001b[0m\u001b[0m\n",
      "\u001b[1;32mC:\\ProgramData\\Anaconda3\\lib\\site-packages\\torch\\nn\\modules\\loss.py\u001b[0m in \u001b[0;36mforward\u001b[1;34m(self, input, target)\u001b[0m\n\u001b[0;32m    930\u001b[0m     \u001b[1;32mdef\u001b[0m \u001b[0mforward\u001b[0m\u001b[1;33m(\u001b[0m\u001b[0mself\u001b[0m\u001b[1;33m,\u001b[0m \u001b[0minput\u001b[0m\u001b[1;33m,\u001b[0m \u001b[0mtarget\u001b[0m\u001b[1;33m)\u001b[0m\u001b[1;33m:\u001b[0m\u001b[1;33m\u001b[0m\u001b[1;33m\u001b[0m\u001b[0m\n\u001b[0;32m    931\u001b[0m         return F.cross_entropy(input, target, weight=self.weight,\n\u001b[1;32m--> 932\u001b[1;33m                                ignore_index=self.ignore_index, reduction=self.reduction)\n\u001b[0m\u001b[0;32m    933\u001b[0m \u001b[1;33m\u001b[0m\u001b[0m\n\u001b[0;32m    934\u001b[0m \u001b[1;33m\u001b[0m\u001b[0m\n",
      "\u001b[1;32mC:\\ProgramData\\Anaconda3\\lib\\site-packages\\torch\\nn\\functional.py\u001b[0m in \u001b[0;36mcross_entropy\u001b[1;34m(input, target, weight, size_average, ignore_index, reduce, reduction)\u001b[0m\n\u001b[0;32m   2315\u001b[0m     \u001b[1;32mif\u001b[0m \u001b[0msize_average\u001b[0m \u001b[1;32mis\u001b[0m \u001b[1;32mnot\u001b[0m \u001b[1;32mNone\u001b[0m \u001b[1;32mor\u001b[0m \u001b[0mreduce\u001b[0m \u001b[1;32mis\u001b[0m \u001b[1;32mnot\u001b[0m \u001b[1;32mNone\u001b[0m\u001b[1;33m:\u001b[0m\u001b[1;33m\u001b[0m\u001b[1;33m\u001b[0m\u001b[0m\n\u001b[0;32m   2316\u001b[0m         \u001b[0mreduction\u001b[0m \u001b[1;33m=\u001b[0m \u001b[0m_Reduction\u001b[0m\u001b[1;33m.\u001b[0m\u001b[0mlegacy_get_string\u001b[0m\u001b[1;33m(\u001b[0m\u001b[0msize_average\u001b[0m\u001b[1;33m,\u001b[0m \u001b[0mreduce\u001b[0m\u001b[1;33m)\u001b[0m\u001b[1;33m\u001b[0m\u001b[1;33m\u001b[0m\u001b[0m\n\u001b[1;32m-> 2317\u001b[1;33m     \u001b[1;32mreturn\u001b[0m \u001b[0mnll_loss\u001b[0m\u001b[1;33m(\u001b[0m\u001b[0mlog_softmax\u001b[0m\u001b[1;33m(\u001b[0m\u001b[0minput\u001b[0m\u001b[1;33m,\u001b[0m \u001b[1;36m1\u001b[0m\u001b[1;33m)\u001b[0m\u001b[1;33m,\u001b[0m \u001b[0mtarget\u001b[0m\u001b[1;33m,\u001b[0m \u001b[0mweight\u001b[0m\u001b[1;33m,\u001b[0m \u001b[1;32mNone\u001b[0m\u001b[1;33m,\u001b[0m \u001b[0mignore_index\u001b[0m\u001b[1;33m,\u001b[0m \u001b[1;32mNone\u001b[0m\u001b[1;33m,\u001b[0m \u001b[0mreduction\u001b[0m\u001b[1;33m)\u001b[0m\u001b[1;33m\u001b[0m\u001b[1;33m\u001b[0m\u001b[0m\n\u001b[0m\u001b[0;32m   2318\u001b[0m \u001b[1;33m\u001b[0m\u001b[0m\n\u001b[0;32m   2319\u001b[0m \u001b[1;33m\u001b[0m\u001b[0m\n",
      "\u001b[1;32mC:\\ProgramData\\Anaconda3\\lib\\site-packages\\torch\\nn\\functional.py\u001b[0m in \u001b[0;36mlog_softmax\u001b[1;34m(input, dim, _stacklevel, dtype)\u001b[0m\n\u001b[0;32m   1533\u001b[0m         \u001b[0mdim\u001b[0m \u001b[1;33m=\u001b[0m \u001b[0m_get_softmax_dim\u001b[0m\u001b[1;33m(\u001b[0m\u001b[1;34m'log_softmax'\u001b[0m\u001b[1;33m,\u001b[0m \u001b[0minput\u001b[0m\u001b[1;33m.\u001b[0m\u001b[0mdim\u001b[0m\u001b[1;33m(\u001b[0m\u001b[1;33m)\u001b[0m\u001b[1;33m,\u001b[0m \u001b[0m_stacklevel\u001b[0m\u001b[1;33m)\u001b[0m\u001b[1;33m\u001b[0m\u001b[1;33m\u001b[0m\u001b[0m\n\u001b[0;32m   1534\u001b[0m     \u001b[1;32mif\u001b[0m \u001b[0mdtype\u001b[0m \u001b[1;32mis\u001b[0m \u001b[1;32mNone\u001b[0m\u001b[1;33m:\u001b[0m\u001b[1;33m\u001b[0m\u001b[1;33m\u001b[0m\u001b[0m\n\u001b[1;32m-> 1535\u001b[1;33m         \u001b[0mret\u001b[0m \u001b[1;33m=\u001b[0m \u001b[0minput\u001b[0m\u001b[1;33m.\u001b[0m\u001b[0mlog_softmax\u001b[0m\u001b[1;33m(\u001b[0m\u001b[0mdim\u001b[0m\u001b[1;33m)\u001b[0m\u001b[1;33m\u001b[0m\u001b[1;33m\u001b[0m\u001b[0m\n\u001b[0m\u001b[0;32m   1536\u001b[0m     \u001b[1;32melse\u001b[0m\u001b[1;33m:\u001b[0m\u001b[1;33m\u001b[0m\u001b[1;33m\u001b[0m\u001b[0m\n\u001b[0;32m   1537\u001b[0m         \u001b[0mret\u001b[0m \u001b[1;33m=\u001b[0m \u001b[0minput\u001b[0m\u001b[1;33m.\u001b[0m\u001b[0mlog_softmax\u001b[0m\u001b[1;33m(\u001b[0m\u001b[0mdim\u001b[0m\u001b[1;33m,\u001b[0m \u001b[0mdtype\u001b[0m\u001b[1;33m=\u001b[0m\u001b[0mdtype\u001b[0m\u001b[1;33m)\u001b[0m\u001b[1;33m\u001b[0m\u001b[1;33m\u001b[0m\u001b[0m\n",
      "\u001b[1;31mRuntimeError\u001b[0m: \"host_softmax\" not implemented for 'Long'"
     ]
    }
   ],
   "source": [
    "import pickle\n",
    "\n",
    "do_train_test = True\n",
    "if do_train_test:\n",
    "    train_losses, test_losses, accuracies = train_test(\n",
    "        cnn, optimizer, loss_func, train_loader, test_loader, epochs\n",
    "    )\n",
    "    with open(\"results_2000.pkl\", \"wb\") as f:\n",
    "        pickle.dump((train_losses, test_losses, accuracies), f)\n",
    "else:\n",
    "    with open(\"results_2000.pkl\", \"rb\") as f:\n",
    "        train_losses, test_losses, accuracies = pickle.load(f)"
   ]
  },
  {
   "cell_type": "code",
   "execution_count": null,
   "metadata": {
    "scrolled": false
   },
   "outputs": [],
   "source": [
    "plot_accuracies(epochs, accuracies)\n",
    "plot_loss(epochs, train_losses, test_losses)"
   ]
  },
  {
   "cell_type": "code",
   "execution_count": null,
   "metadata": {},
   "outputs": [],
   "source": []
  },
  {
   "cell_type": "code",
   "execution_count": null,
   "metadata": {},
   "outputs": [],
   "source": [
    "torch.save(cnn, \"model.pth\")"
   ]
  },
  {
   "cell_type": "code",
   "execution_count": null,
   "metadata": {},
   "outputs": [],
   "source": [
    "cnn = torch.load(\"model.pth\")\n",
    "cnn.eval()"
   ]
  },
  {
   "cell_type": "code",
   "execution_count": null,
   "metadata": {},
   "outputs": [],
   "source": [
    "from facenet_pytorch import InceptionResnetV1\n",
    "\n",
    "# For a model pretrained on VGGFace2\n",
    "model = InceptionResnetV1(pretrained='vggface2').eval()"
   ]
  },
  {
   "cell_type": "code",
   "execution_count": null,
   "metadata": {},
   "outputs": [],
   "source": [
    "from facenet_pytorch import MTCNN\n",
    "\n",
    "mtcnn = MTCNN()"
   ]
  },
  {
   "cell_type": "code",
   "execution_count": null,
   "metadata": {},
   "outputs": [],
   "source": [
    "mtcnn.detect(dataset.images[0])"
   ]
  },
  {
   "cell_type": "code",
   "execution_count": null,
   "metadata": {},
   "outputs": [],
   "source": [
    "# https://github.com/davidsandberg/facenet/issues/1095"
   ]
  }
 ],
 "metadata": {
  "kernelspec": {
   "display_name": "Python 3",
   "language": "python",
   "name": "python3"
  },
  "language_info": {
   "codemirror_mode": {
    "name": "ipython",
    "version": 3
   },
   "file_extension": ".py",
   "mimetype": "text/x-python",
   "name": "python",
   "nbconvert_exporter": "python",
   "pygments_lexer": "ipython3",
   "version": "3.7.6"
  }
 },
 "nbformat": 4,
 "nbformat_minor": 2
}
